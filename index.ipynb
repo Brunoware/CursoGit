{
 "cells": [
  {
   "cell_type": "code",
   "execution_count": null,
   "metadata": {},
   "outputs": [],
   "source": [
    "import pandas as pd"
   ]
  },
  {
   "cell_type": "code",
   "execution_count": 24,
   "metadata": {},
   "outputs": [],
   "source": [
    "from modelos import classifiers as cs"
   ]
  },
  {
   "cell_type": "code",
   "execution_count": 32,
   "metadata": {},
   "outputs": [
    {
     "ename": "AttributeError",
     "evalue": "module 'modelos.classifiers' has no attribute 'Persona'",
     "output_type": "error",
     "traceback": [
      "\u001b[1;31m---------------------------------------------------------------------------\u001b[0m",
      "\u001b[1;31mAttributeError\u001b[0m                            Traceback (most recent call last)",
      "\u001b[1;32md:\\GIT&GITHUB\\Proyecto Analisis empresa A\\index.ipynb Cell 3'\u001b[0m in \u001b[0;36m<module>\u001b[1;34m\u001b[0m\n\u001b[1;32m----> <a href='vscode-notebook-cell:/d%3A/GIT%26GITHUB/Proyecto%20Analisis%20empresa%20A/index.ipynb#ch0000002?line=0'>1</a>\u001b[0m a\u001b[39m=\u001b[39mcs\u001b[39m.\u001b[39;49mPersona\n",
      "\u001b[1;31mAttributeError\u001b[0m: module 'modelos.classifiers' has no attribute 'Persona'"
     ]
    }
   ],
   "source": [
    "a=cs.Persona"
   ]
  }
 ],
 "metadata": {
  "interpreter": {
   "hash": "b392b17bb912b79173c898bc62d419cb26a8919549a0a618478fecf805bb844e"
  },
  "kernelspec": {
   "display_name": "Python 3.9.12 64-bit (windows store)",
   "language": "python",
   "name": "python3"
  },
  "language_info": {
   "codemirror_mode": {
    "name": "ipython",
    "version": 3
   },
   "file_extension": ".py",
   "mimetype": "text/x-python",
   "name": "python",
   "nbconvert_exporter": "python",
   "pygments_lexer": "ipython3",
   "version": "3.9.12"
  },
  "orig_nbformat": 4
 },
 "nbformat": 4,
 "nbformat_minor": 2
}
